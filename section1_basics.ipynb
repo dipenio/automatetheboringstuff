{
 "metadata": {
  "language_info": {
   "codemirror_mode": {
    "name": "ipython",
    "version": 3
   },
   "file_extension": ".py",
   "mimetype": "text/x-python",
   "name": "python",
   "nbconvert_exporter": "python",
   "pygments_lexer": "ipython3",
   "version": "3.7.9-final"
  },
  "orig_nbformat": 2,
  "kernelspec": {
   "name": "Python 3.7.9 64-bit ('base': conda)",
   "display_name": "Python 3.7.9 64-bit ('base': conda)",
   "metadata": {
    "interpreter": {
     "hash": "6ad2903d9f8eb78095a8e1054d3b7d96029c25240c1559c5c7674409ebbac066"
    }
   }
  }
 },
 "nbformat": 4,
 "nbformat_minor": 2,
 "cells": [
  {
   "source": [
    "### Section 1: Python Basics\n",
    "\n",
    "https://automatetheboringstuff.com/chapter1/"
   ],
   "cell_type": "markdown",
   "metadata": {}
  },
  {
   "source": [
    "#### Basic terminology\n",
    "\n",
    "An instruction that evaluates to a single value is an expression. An instruction that doesn't is a statement.\n",
    "IDLE is an editor.\n",
    "The interactive shell window has the >>> prompt.\n",
    "The file editor window is where you enter code for complete programs.\n",
    "Data types: int, float, string\n",
    "Strings hold text and begin and end with quotes: ‘Hello world!'\n",
    "Values can be stored in variables: spam = 42\n",
    "Variables can be used anywhere values can be used in expressions: spam + 1\n",
    "\n",
    "https://automatetheboringstuff.com/eval/2-1.html\n",
    "\n",
    "https://automatetheboringstuff.com/eval/2-2.html\n"
   ],
   "cell_type": "markdown",
   "metadata": {}
  },
  {
   "source": [
    "#### First program\n",
    "\n",
    "Type programs into the file editor (not in the interactive shell window with the >>> prompt)\n",
    "The execution starts at the top and moves down.\n",
    "Comments begin with a # character and are ignored by Python; they are notes & reminders for the programmer.\n",
    "Functions are like mini-programs in your program.\n",
    "The print() function displays the value passed to it.\n",
    "The input() function lets users type in a value.\n",
    "The len() function takes a string value and returns an integer value of the string's length.\n",
    "The int(), str(), and float() functions can be used to convert values' data type.\n",
    "\n",
    "https://automatetheboringstuff.com/eval/3-1.html\n",
    "\n",
    "https://automatetheboringstuff.com/eval/3-2.html\n",
    "\n",
    "https://automatetheboringstuff.com/eval/3-3.html\n",
    "\n",
    "https://automatetheboringstuff.com/eval/3-4.html"
   ],
   "cell_type": "markdown",
   "metadata": {}
  },
  {
   "cell_type": "code",
   "execution_count": 3,
   "metadata": {},
   "outputs": [
    {
     "output_type": "stream",
     "name": "stdout",
     "text": [
      "Hello world\n",
      "What is your name?\n",
      "It is good to meet you, Jeff\n",
      "The length of your name is:\n",
      "4\n",
      "What is your age?\n",
      "You will be 22 in a year.\n"
     ]
    }
   ],
   "source": [
    "### First Program ###\n",
    "\n",
    "print ('Hello world')\n",
    "\n",
    "print ('What is your name?')\n",
    "myName = input()\n",
    "print ('It is good to meet you, ' + myName)\n",
    "print ('The length of your name is:')\n",
    "print (len(myName))\n",
    "\n",
    "print ('What is your age?')\n",
    "myAge = input()\n",
    "print ('You will be '+ str(int(myAge) + 1) + ' in a year.')"
   ]
  },
  {
   "cell_type": "code",
   "execution_count": null,
   "metadata": {},
   "outputs": [],
   "source": []
  }
 ]
}
{
 "cells": [
  {
   "cell_type": "markdown",
   "metadata": {
    "collapsed": true
   },
   "source": [
    "## How to automate the boring stuff.\n",
    "\n",
    "\n",
    "###### Notes\n",
    "\n",
    "Helpful visualizer - http://www.pythontutor.com/\n",
    "\n",
    "------------------------------------------------------------------------------"
   ]
  },
  {
   "cell_type": "markdown",
   "metadata": {},
   "source": [
    "### Section 1: Python Basics\n",
    "\n",
    "https://automatetheboringstuff.com/chapter1/"
   ]
  },
  {
   "cell_type": "markdown",
   "metadata": {},
   "source": [
    "#### Basic terminology\n",
    "\n",
    "An instruction that evaluates to a single value is an expression. An instruction that doesn't is a statement.\n",
    "IDLE is an editor.\n",
    "The interactive shell window has the >>> prompt.\n",
    "The file editor window is where you enter code for complete programs.\n",
    "Data types: int, float, string\n",
    "Strings hold text and begin and end with quotes: ‘Hello world!'\n",
    "Values can be stored in variables: spam = 42\n",
    "Variables can be used anywhere values can be used in expressions: spam + 1\n",
    "\n",
    "https://automatetheboringstuff.com/eval/2-1.html\n",
    "\n",
    "https://automatetheboringstuff.com/eval/2-2.html\n",
    "\n"
   ]
  },
  {
   "cell_type": "code",
   "execution_count": null,
   "metadata": {},
   "outputs": [],
   "source": []
  },
  {
   "cell_type": "markdown",
   "metadata": {},
   "source": [
    "#### First program\n",
    "\n",
    "Type programs into the file editor (not in the interactive shell window with the >>> prompt)\n",
    "The execution starts at the top and moves down.\n",
    "Comments begin with a # character and are ignored by Python; they are notes & reminders for the programmer.\n",
    "Functions are like mini-programs in your program.\n",
    "The print() function displays the value passed to it.\n",
    "The input() function lets users type in a value.\n",
    "The len() function takes a string value and returns an integer value of the string's length.\n",
    "The int(), str(), and float() functions can be used to convert values' data type.\n",
    "\n",
    "https://automatetheboringstuff.com/eval/3-1.html\n",
    "\n",
    "https://automatetheboringstuff.com/eval/3-2.html\n",
    "\n",
    "https://automatetheboringstuff.com/eval/3-3.html\n",
    "\n",
    "https://automatetheboringstuff.com/eval/3-4.html\n"
   ]
  },
  {
   "cell_type": "code",
   "execution_count": 8,
   "metadata": {},
   "outputs": [
    {
     "name": "stdout",
     "output_type": "stream",
     "text": [
      "Hello world\n",
      "What is your name?\n",
      "Dipen\n",
      "It is good to meet you, Dipen\n",
      "The length of your name is:\n",
      "5\n",
      "What is your age?\n",
      "29\n",
      "You will be 30 in a year.\n"
     ]
    }
   ],
   "source": [
    "### First Program ###\n",
    "\n",
    "print ('Hello world')\n",
    "\n",
    "print ('What is your name?')\n",
    "myName = input()\n",
    "print ('It is good to meet you, ' + myName)\n",
    "print ('The length of your name is:')\n",
    "print (len(myName))\n",
    "\n",
    "print ('What is your age?')\n",
    "myAge = input()\n",
    "print ('You will be '+ str(int(myAge) + 1) + ' in a year.')"
   ]
  },
  {
   "cell_type": "markdown",
   "metadata": {},
   "source": [
    "### Section 2: Flow Control\n",
    "\n",
    "https://automatetheboringstuff.com/chapter2/"
   ]
  },
  {
   "cell_type": "markdown",
   "metadata": {},
   "source": [
    "#### Basic flow charts and basic flow control concepts\n",
    "\n",
    "The Boolean data type has only two values: True and False (both beginning with capital letters).\n",
    "Comparison operators compare two values and evaluate to a Boolean value: ==, !=, <, >, <=, >=\n",
    "== is a comparison operator, while = is the assignment operator for variables.\n",
    "Boolean operators (and, or, not) also evaluate to Boolean values.\n",
    "\n"
   ]
  },
  {
   "cell_type": "code",
   "execution_count": 4,
   "metadata": {},
   "outputs": [
    {
     "data": {
      "text/plain": [
       "False"
      ]
     },
     "execution_count": 4,
     "metadata": {},
     "output_type": "execute_result"
    }
   ],
   "source": [
    "2 != 4\n",
    "True and False"
   ]
  },
  {
   "cell_type": "markdown",
   "metadata": {},
   "source": [
    "#### If, Else, and Elif statements\n",
    "\n",
    "An if statement can be used to conditionally execute code, depending on whether the \"if\" statement's condition is True or False.\n",
    "An elif (that is, \"else if\") statement can follow an if statement. Its block executes if its condition is True and all the previous conditions have been False.\n",
    "An else statement comes at the end. Its block is executed if all of the previous conditions have been False.\n",
    "The values 0 (integer), 0.0 (float), and ‘‘ (the empty string) are considered to be \"falsey\" values. When used in conditions they are considered False. You can always see for yourself which values are truthy or falsey by passing them to the bool() function."
   ]
  },
  {
   "cell_type": "code",
   "execution_count": 62,
   "metadata": {},
   "outputs": [
    {
     "name": "stdout",
     "output_type": "stream",
     "text": [
      "What is your name?\n",
      "Jack\n",
      "go away!\n"
     ]
    }
   ],
   "source": [
    "### Use If, Else ###\n",
    "\n",
    "print ('What is your name?')\n",
    "myName = input()\n",
    "\n",
    "if myName == 'Dipen':\n",
    "    print ('Hi Dipen')\n",
    "else:      \n",
    "    print ('Go away!')"
   ]
  },
  {
   "cell_type": "code",
   "execution_count": 60,
   "metadata": {},
   "outputs": [
    {
     "name": "stdout",
     "output_type": "stream",
     "text": [
      "Who goes there?\n",
      "Sally\n",
      "You have no busiess here Sally!\n"
     ]
    }
   ],
   "source": [
    "### Use Elif ###\n",
    "\n",
    "print ('Who goes there?')\n",
    "myName = input()\n",
    "\n",
    "if myName == 'Dipen':\n",
    "    print ('Hi, Dipen!')\n",
    "elif myName == 'Alice':\n",
    "     print ('Go away, ' + myName)\n",
    "else:\n",
    "    print ('You have no busiess here ' + myName +'!')\n"
   ]
  },
  {
   "cell_type": "markdown",
   "metadata": {},
   "source": [
    "#### While Loops\n",
    "When the execution reaches the end of a \"while\" statement's block, it jumps back to the start to re-check the condition.\n",
    "You can press ctrl-c to interrupt an infinite loop. This hotkey stops Python programs.\n",
    "A \"break\" statement causes the execution to immediately leave the loop, without re-check the condition.\n",
    "A \"continue\" statement causes the execution to immediate jump back to the start of the loop and re-check the condition."
   ]
  },
  {
   "cell_type": "code",
   "execution_count": 2,
   "metadata": {},
   "outputs": [
    {
     "name": "stdout",
     "output_type": "stream",
     "text": [
      "Enter password:\n",
      "Number of attempts left: 0/3\n",
      "hello\n",
      "Number of attempts left: 1/3\n",
      "Dragon\n",
      "Welcome!\n"
     ]
    }
   ],
   "source": [
    "x = 0\n",
    "myPass = ''\n",
    "\n",
    "print ('Enter password:')\n",
    "while myPass != 'Dragon':\n",
    "    print ('Number of attempts left: ' + str(x) + '/3')\n",
    "    myPass = input()\n",
    "    x = x + 1\n",
    "    if x < 3:\n",
    "        continue\n",
    "    else:  \n",
    "        print ('Account locked')\n",
    "        break\n",
    "    \n",
    "print ('Welcome!')\n",
    "        "
   ]
  },
  {
   "cell_type": "markdown",
   "metadata": {},
   "source": [
    "#### For Loops\n",
    "\n",
    "A \"for\" loop will loop a specific number of times.\n",
    "The range() function can be called with one, two, or three arguments.\n",
    "The break and continue statements can be used in for loops just like they're used in while loops."
   ]
  },
  {
   "cell_type": "code",
   "execution_count": 9,
   "metadata": {},
   "outputs": [
    {
     "name": "stdout",
     "output_type": "stream",
     "text": [
      "Enter password: no\n",
      "2 Attempts left\n",
      "Enter password: stop\n",
      "1 Attempts left\n",
      "Enter password: please\n",
      "0 Attempts left\n",
      "Account locked\n"
     ]
    }
   ],
   "source": [
    "myPass = ''\n",
    "\n",
    "for i in range(3,0,-1):\n",
    "    myPass = input('Enter password: ')\n",
    "    \n",
    "    if myPass != 'Dragon':\n",
    "        print (str(i - 1) + ' Attempts left')\n",
    "    else:\n",
    "        break\n",
    "\n",
    "if i == 1 and myPass != 'Dragon':\n",
    "    print ('Account locked')\n",
    "else:\n",
    "    print ('Welcome!')\n"
   ]
  },
  {
   "cell_type": "markdown",
   "metadata": {},
   "source": [
    "### Section 3: Functions\n",
    "\n",
    "https://automatetheboringstuff.com/chapter3/"
   ]
  },
  {
   "cell_type": "markdown",
   "metadata": {},
   "source": [
    "#### Built-in Functions\n",
    "\n",
    "You can import modules and get access to new functions.\n",
    "The modules that come with Python are called the standard library, but you can also install third-party modules using the pip tool.\n",
    "The sys.exit() function will immediately quit your program.\n",
    "The Pyperclip third-party module has copy() and paste() functions for reading and writing text to the clipboard()."
   ]
  },
  {
   "cell_type": "code",
   "execution_count": 13,
   "metadata": {},
   "outputs": [
    {
     "data": {
      "text/plain": [
       "'hello world!'"
      ]
     },
     "execution_count": 13,
     "metadata": {},
     "output_type": "execute_result"
    }
   ],
   "source": [
    "import pyperclip as pyclip\n",
    "\n",
    "pyclip.copy ('hello world!')\n",
    "pyperclip.paste()"
   ]
  },
  {
   "cell_type": "code",
   "execution_count": 14,
   "metadata": {},
   "outputs": [
    {
     "name": "stdout",
     "output_type": "stream",
     "text": [
      "hello\n"
     ]
    },
    {
     "ename": "SystemExit",
     "evalue": "",
     "output_type": "error",
     "traceback": [
      "An exception has occurred, use %tb to see the full traceback.\n",
      "\u001b[1;31mSystemExit\u001b[0m\n"
     ]
    },
    {
     "name": "stderr",
     "output_type": "stream",
     "text": [
      "C:\\Users\\Admin\\Anaconda3\\lib\\site-packages\\IPython\\core\\interactiveshell.py:3339: UserWarning: To exit: use 'exit', 'quit', or Ctrl-D.\n",
      "  warn(\"To exit: use 'exit', 'quit', or Ctrl-D.\", stacklevel=1)\n"
     ]
    }
   ],
   "source": [
    "import sys\n",
    "print ('hello')\n",
    "sys.exit()\n",
    "print ('bye')"
   ]
  },
  {
   "cell_type": "markdown",
   "metadata": {},
   "source": [
    "#### Writing Your Own Fuctions\n",
    "\n",
    "Functions are like a mini-program inside your program.\n",
    "The main point of functions is to get rid of duplicate code.\n",
    "The def statement defines a function.\n",
    "The input to functions are called arguments. The output is called the return value.\n",
    "The parameters are the variables in between the function's parentheses in the def statement.\n",
    "The return value is specified using the return statement.\n",
    "Every function has a return value. If your function doesn't have a return statement, the default return value is None. (Like True and False, None is written with a capital first letter.)\n",
    "\n",
    "Keyword arguments to functions are usually for optional arguments. The print() function has keyword arguments \"end\" and \"sep\"."
   ]
  },
  {
   "cell_type": "code",
   "execution_count": 42,
   "metadata": {},
   "outputs": [
    {
     "name": "stdout",
     "output_type": "stream",
     "text": [
      "Numnber to square: 9\n"
     ]
    },
    {
     "data": {
      "text/plain": [
       "81"
      ]
     },
     "execution_count": 42,
     "metadata": {},
     "output_type": "execute_result"
    }
   ],
   "source": [
    "#calculate x^2\n",
    "\n",
    "def calc(sq):\n",
    "    return sq * sq\n",
    "\n",
    "enter = int (input('Numnber to square: ')) #input = int\n",
    "\n",
    "calc(enter)\n",
    "    "
   ]
  },
  {
   "cell_type": "code",
   "execution_count": 46,
   "metadata": {},
   "outputs": [
    {
     "name": "stdout",
     "output_type": "stream",
     "text": [
      "Numnber to square: 9\n"
     ]
    },
    {
     "data": {
      "text/plain": [
       "81"
      ]
     },
     "execution_count": 46,
     "metadata": {},
     "output_type": "execute_result"
    }
   ],
   "source": [
    "#calculate x^2\n",
    "#version 2\n",
    "\n",
    "def calc():\n",
    "    return sq * sq\n",
    "\n",
    "sq = int (input('Numnber to square: ')) #input = int\n",
    "\n",
    "calc()"
   ]
  },
  {
   "cell_type": "markdown",
   "metadata": {},
   "source": [
    "#### Global and Local Scopes\n",
    "\n",
    "A scope can be thought of as an area of the source code, and as a container of variables.\n",
    "The global scope is code outside of all functions. Variables assigned here are global variables.\n",
    "Each function's code is in its own local scope. Variables assigned here are local variables.\n",
    "Code in the global scope cannot use any local variables.\n",
    "Code in a function's local scope cannot use variables in any another function's local scope.\n",
    "(If there is a global statement for a variable at the top of a function, that variable in that function is a global variable.)\n",
    "If there's an assignment statement for a variable in a function, that is a local variable. The exception is if there's a global statement for that variable; then it's a global variable."
   ]
  },
  {
   "cell_type": "code",
   "execution_count": 47,
   "metadata": {},
   "outputs": [
    {
     "name": "stdout",
     "output_type": "stream",
     "text": [
      "Hello\n",
      "Hello\n"
     ]
    }
   ],
   "source": [
    "def spam():\n",
    "    global eggs\n",
    "    eggs = 'Hello'\n",
    "    print(eggs)\n",
    "\n",
    "eggs = 42\n",
    "spam()\n",
    "print(eggs)"
   ]
  },
  {
   "cell_type": "markdown",
   "metadata": {},
   "source": [
    "### Section 4: Handling Errors with try/except"
   ]
  },
  {
   "cell_type": "markdown",
   "metadata": {},
   "source": [
    "#### Try ans Except Statements\n",
    "\n",
    "A divide-by-zero error happens when Python divides a number by zero.\n",
    "Errors cause the program to crash. (This doesn't damage your computer at all. It's just that the computer doesn't know how to carry out this instruction, so it immediately stops the program by \"crashing\" rather than continue.)\n",
    "An error that happens inside a try block will cause code in the except block to execute. That code can handle the error or display a message to the user so that the program can keep going."
   ]
  },
  {
   "cell_type": "code",
   "execution_count": 53,
   "metadata": {},
   "outputs": [
    {
     "name": "stdout",
     "output_type": "stream",
     "text": [
      "YOU CANT DIVIDE BY 0 YOU IDIOT!\n",
      "None\n",
      "21.0\n",
      "How old are you? shut up bruv\n",
      "r u dum bruv?!\n"
     ]
    }
   ],
   "source": [
    "def div42by(dby):\n",
    "    try:\n",
    "        return 42/dby\n",
    "    except ZeroDivisionError:\n",
    "        print ('YOU CANT DIVIDE BY 0 YOU IDIOT!')\n",
    "        \n",
    "print (div42by(0))\n",
    "print (div42by(2))\n",
    "\n",
    "num = input('How old are you? ')\n",
    "try:\n",
    "    if int(num)>= 18:\n",
    "        print('What can I get you?')\n",
    "    else:\n",
    "        print('GET OUT OF MY PUB!')\n",
    "except ValueError:\n",
    "    print('r u dum bruv?!')"
   ]
  },
  {
   "cell_type": "code",
   "execution_count": 55,
   "metadata": {},
   "outputs": [
    {
     "name": "stdout",
     "output_type": "stream",
     "text": [
      "How old are you? -8\n",
      "u takin da piss init\n"
     ]
    }
   ],
   "source": [
    "num = input('How old are you? ')\n",
    "try:\n",
    "    if int(num)>= 18:\n",
    "        print('What can I get you?')\n",
    "    elif int(num)<=0:\n",
    "            print('u takin da piss init')\n",
    "    else:\n",
    "        print('GET OUT OF MY PUB!')\n",
    "except ValueError:\n",
    "    print('r u dum bruv?!')"
   ]
  },
  {
   "cell_type": "markdown",
   "metadata": {},
   "source": [
    "### Section 5: Writing a Complete Program: Guess the Number"
   ]
  },
  {
   "cell_type": "markdown",
   "metadata": {},
   "source": [
    "Random number game conditions - \n",
    "\n",
    "name input\n",
    "Generate a random number between 1 - 20\n",
    "store number\n",
    "store attempts\n",
    "allow user to guess number\n",
    "if match print msg and attempts\n",
    "else try again\n",
    "limited guesses\n",
    "clue"
   ]
  },
  {
   "cell_type": "code",
   "execution_count": 80,
   "metadata": {},
   "outputs": [
    {
     "name": "stdout",
     "output_type": "stream",
     "text": [
      "What is your name? The Big Boss Man\n",
      "Hi The Big Boss Man, I am thinking of a number between 1 and 20.\n",
      "What is my number? 3\n",
      "Too low. 4 Attempts left\n",
      "What is my number? 10\n",
      "Too low. 3 Attempts left\n",
      "What is my number? 19\n",
      "Too high. 2 Attempts left\n",
      "What is my number? 1\n",
      "Too low. 1 Attempts left\n",
      "What is my number? 4\n",
      "Too low. 0 Attempts left\n",
      "My number was 16. Better luck next time\n"
     ]
    }
   ],
   "source": [
    "### Attempt 1 - before looking at code\n",
    "### No 2nd attempt needed - did it the same way except I also added a try function and guesses left check\n",
    "\n",
    "\n",
    "#Asks for user's name\n",
    "\n",
    "name = input('What is your name? ')\n",
    "print ('Hi ' + name + ', I am thinking of a number between 1 and 20.')\n",
    "\n",
    "# Import a random number between 1 and 20\n",
    "import random\n",
    "ans = (random.randint(1,20))\n",
    "\n",
    "\n",
    "for i in range(5,0,-1): #Number of attempts\n",
    "    if i == 0: \n",
    "        break\n",
    "    else:\n",
    "        try:\n",
    "            guess = int(input('What is my number? '))#User input\n",
    "        except ValueError: # If guess is not an int\n",
    "            print ('That is not a number.')\n",
    "\n",
    "#Clue + attempts left\n",
    "    if guess > ans:\n",
    "            print ('Too high. ' + str(i - 1) + ' Attempts left')\n",
    "    elif guess < ans:\n",
    "            print ('Too low. ' + str(i - 1) + ' Attempts left')\n",
    "    else:\n",
    "        break\n",
    "\n",
    "#Outcome\n",
    "if i == 0 or guess != ans:\n",
    "    print ('My number was ' + str(ans) + ', Better luck next time.')\n",
    "else:\n",
    "    print ('Correct! My number was ' + str(ans))\n",
    "\n"
   ]
  },
  {
   "cell_type": "markdown",
   "metadata": {},
   "source": [
    "### Section 6: Lists\n",
    "https://automatetheboringstuff.com/chapter4/"
   ]
  },
  {
   "cell_type": "markdown",
   "metadata": {},
   "source": [
    "#### The List Data Type\n",
    "\n",
    "A list is a value that contains multiple values: [42, 3.14, ‘hello']\n",
    "The values in a list are also called items.\n",
    "You can access items in a list with its integer index.\n",
    "The indexes start at 0, not 1.\n",
    "You can also use negative indexes: -1 refers to the last item, -2 refers to the second to last item, and so on.\n",
    "You can get multiple items from the list using a slice.\n",
    "The slice has two indexes. The new list's items start at the first index and go up to, but doesn't include, the second index.\n",
    "The len() function, concatenation, and replication work the same way on lists that they do with strings.\n",
    "You can convert a value into a list by passing it to the list() function."
   ]
  },
  {
   "cell_type": "code",
   "execution_count": 8,
   "metadata": {},
   "outputs": [
    {
     "name": "stdout",
     "output_type": "stream",
     "text": [
      "Hello, Jenny\n",
      "['my', 'name']\n",
      "['Hello', ',', 'name', 'is', 'a', 'Jenny']\n",
      "['Hello', ',', 'name']\n",
      "['Hello', 'name', 'is']\n",
      "name [3]\n",
      "HelloHelloHello\n"
     ]
    },
    {
     "data": {
      "text/plain": [
       "False"
      ]
     },
     "execution_count": 8,
     "metadata": {},
     "output_type": "execute_result"
    }
   ],
   "source": [
    "spam = ['Hello','my','name','is','a','Jenny']\n",
    "print(spam[0] + ', ' + spam[-1])\n",
    "\n",
    "print(spam[1:3])\n",
    "\n",
    "spam[1] = ',' #replace\n",
    "print(spam)\n",
    "\n",
    "print (spam [:3])\n",
    "del spam[1]\n",
    "print (spam [:3])\n",
    "\n",
    "print(spam[1],[3])\n",
    "\n",
    "print (spam [0] *3)\n",
    "\n",
    "list (spam [0])\n",
    "\n",
    "'name'  not in spam\n"
   ]
  },
  {
   "cell_type": "markdown",
   "metadata": {},
   "source": [
    "#### For Loops with Lists, Multiple Assignment, and Augmented Operators\n",
    "\n",
    "A for loop technically iterates over the values in a list.\n",
    "The range() function returns a list-like value, which can be passed to the list() function if you need an actual list value.\n",
    "Variables can swap their values using multiple assignment: a, b = b, a\n",
    "Augmented assignment operators like += are used as shortcuts."
   ]
  },
  {
   "cell_type": "code",
   "execution_count": 26,
   "metadata": {},
   "outputs": [
    {
     "name": "stdout",
     "output_type": "stream",
     "text": [
      "0\n",
      "1\n",
      "2\n",
      "3\n",
      "0\n",
      "1\n",
      "2\n",
      "3\n",
      "Index 0 in supplies is: pens\n",
      "Index 1 in supplies is: bin\n",
      "Index 2 in supplies is: paper\n",
      "Index 3 in supplies is: staplers\n"
     ]
    },
    {
     "data": {
      "text/plain": [
       "43"
      ]
     },
     "execution_count": 26,
     "metadata": {},
     "output_type": "execute_result"
    }
   ],
   "source": [
    "for i in range (4):\n",
    "    print(i)\n",
    "    \n",
    "\n",
    "spam = [0,1,2,3]\n",
    "for i in spam:\n",
    "    print(i)\n",
    "\n",
    "list(range(4))\n",
    "\n",
    "list(range(0,10,2))\n",
    "\n",
    "supplies = ['pens', 'bin', 'paper', 'staplers']\n",
    "for i in range(len(supplies)):\n",
    "    print ('Index ' + str(i) + ' in supplies is: ' + supplies[i]) \n",
    "\n",
    "#Multiple Assignment\n",
    "cat = ['fat', 'orange', 'load']\n",
    "size = cat[0]\n",
    "colour = cat[1]\n",
    "disposition = cat[2]\n",
    "\n",
    "size, colour, disposition = cat\n",
    "size\n"
   ]
  },
  {
   "cell_type": "code",
   "execution_count": 30,
   "metadata": {},
   "outputs": [
    {
     "data": {
      "text/plain": [
       "0.0"
      ]
     },
     "execution_count": 30,
     "metadata": {},
     "output_type": "execute_result"
    }
   ],
   "source": [
    "#Augmented assignment statement\n",
    "spam = 42\n",
    "spam += 1\n",
    "spam -= 1\n",
    "spam *= 1\n",
    "spam /= 1\n",
    "spam %= 1\n",
    "spam\n"
   ]
  },
  {
   "cell_type": "markdown",
   "metadata": {},
   "source": [
    "#### List Methods\n",
    "\n",
    "Methods are functions that are \"called on\" values.\n",
    "The index() list method returns the index of an item in the list.\n",
    "The append() list method adds a value to the end of a list.\n",
    "The insert() list method adds a value anywhere inside a list.\n",
    "The remove() list method removes an item, specified by the value, from a list.\n",
    "The sort() list method sorts the items in a list.\n",
    "The sort() method's reverse=True keyword argument can make the sort() method sort in reverse order.\n",
    "These list methods operate on the list \"in place\", rather than returning a new list value."
   ]
  },
  {
   "cell_type": "code",
   "execution_count": 40,
   "metadata": {},
   "outputs": [
    {
     "data": {
      "text/plain": [
       "['dog', 'mouse', 'moose', 'moose', 'moose']"
      ]
     },
     "execution_count": 40,
     "metadata": {},
     "output_type": "execute_result"
    }
   ],
   "source": [
    "spam = ['hello', 'hi', 'sup']\n",
    "spam.index ('hello')\n",
    "\n",
    "spam = ['cat', 'dog', 'mouse']\n",
    "spam.append ('moose')\n",
    "spam.append ('moose')\n",
    "spam.append ('moose')\n",
    "spam.insert(1,'chicken')\n",
    "spam.remove ('cat')\n",
    "spam\n",
    "\n",
    "del spam [0]\n",
    "spam\n"
   ]
  },
  {
   "cell_type": "code",
   "execution_count": 43,
   "metadata": {},
   "outputs": [
    {
     "data": {
      "text/plain": [
       "['A', 'a', 'Z', 'z']"
      ]
     },
     "execution_count": 43,
     "metadata": {},
     "output_type": "execute_result"
    }
   ],
   "source": [
    "spam = [2,3,5,1,6,8,-2]\n",
    "spam.sort(reverse = True) #can also sorts strings \"ASCII-betically\" A,Z,a,z\n",
    "spam\n",
    "\n",
    "zpam = ['A', 'Z', 'a', 'z']\n",
    "zpam.sort(key=str.lower)\n",
    "zpam"
   ]
  },
  {
   "cell_type": "markdown",
   "metadata": {},
   "source": [
    "#### Similarities Between Lists Strings\n",
    "\n",
    "Strings can do a lot of the same things lists can do, but strings are immutable.\n",
    "Immutable values like strings and tuples cannot be modified \"in place\".\n",
    "Mutable values like lists can be modified in place.\n",
    "Variables don't contain lists, they contain references to lists.\n",
    "When passing a list argument to a function, you are actually passing a list reference.\n",
    "Changes made to a list in a function will affect the list outside the function.\n",
    "The \\ line continuation character can be used to stretch Python instruction across multiple lines."
   ]
  },
  {
   "cell_type": "code",
   "execution_count": 49,
   "metadata": {},
   "outputs": [
    {
     "name": "stdout",
     "output_type": "stream",
     "text": [
      "Z\n",
      "o\n",
      "p\n",
      "h\n",
      "i\n",
      "e\n"
     ]
    }
   ],
   "source": [
    "list ('Hello')\n",
    "\n",
    "name = 'Zophie'\n",
    "name [0]\n",
    "\n",
    "name [1:3]\n",
    "\n",
    "name [-2]\n",
    "\n",
    "'Zo' in name\n",
    "\n",
    "for letter in name:\n",
    "    print (letter)\n",
    "    \n",
    "#list values are mutable whereas strings are immutable"
   ]
  },
  {
   "cell_type": "code",
   "execution_count": 53,
   "metadata": {},
   "outputs": [
    {
     "data": {
      "text/plain": [
       "'cat called sophie'"
      ]
     },
     "execution_count": 53,
     "metadata": {},
     "output_type": "execute_result"
    }
   ],
   "source": [
    "name = 'cat called zophie'\n",
    "name[9]\n",
    "\n",
    "#modify string by creating new string from slices\n",
    "\n",
    "newName = name[0:11] + 'sophie'\n",
    "newName\n"
   ]
  },
  {
   "cell_type": "markdown",
   "metadata": {},
   "source": [
    "### Section 7: Dictionaries\n",
    "https://automatetheboringstuff.com/chapter5/"
   ]
  },
  {
   "cell_type": "markdown",
   "metadata": {},
   "source": [
    "#### The Dictionary Data Type\n",
    "\n",
    "Dictionaries contain key-value pairs. Keys are like a list's indexes.\n",
    "Dictionaries are mutable. Variables hold references to dictionary values, not the dictionary value itself.\n",
    "Dictionaries are unordered. There is no \"first\" key-value pair in a dictionary.\n",
    "The keys(), values(), and items() methods will return list-like values of a dictionary's keys, vaues, and both keys and values, respectively.\n",
    "The get() method can return a default value if a key doesn't exist.\n",
    "The setdefault() method can set a value if a key doesn't exist.\n",
    "The pprint module's pprint() \"pretty print\" function can display a dictionary value cleanly. The pformat() function returns a string value of this output.\n"
   ]
  },
  {
   "cell_type": "code",
   "execution_count": 74,
   "metadata": {},
   "outputs": [
    {
     "name": "stdout",
     "output_type": "stream",
     "text": [
      "I have a fat cat\n",
      "('size', 'fat')\n",
      "('colour', 'black')\n",
      "('disposition', 'load')\n",
      "size fat\n",
      "colour black\n",
      "disposition load\n",
      "black\n"
     ]
    },
    {
     "data": {
      "text/plain": [
       "'null'"
      ]
     },
     "execution_count": 74,
     "metadata": {},
     "output_type": "execute_result"
    }
   ],
   "source": [
    "myCat = {'size': 'fat', 'colour': 'black', 'disposition': 'load'}\n",
    "myCat ['size']\n",
    "\n",
    "print('I have a ' + myCat['size'] + ' cat')\n",
    "\n",
    "#lists are ordered. Below = false\n",
    "[1,2,3] == [3,2,1]\n",
    "\n",
    "#dictionaires are unordered. Below = True\n",
    "myCat = {'size': 'fat', 'colour': 'black', 'disposition': 'load'}\n",
    "catMy = {'colour': 'black', 'size': 'fat','disposition': 'load'}\n",
    "myCat == catMy\n",
    "\n",
    "list(myCat.keys())\n",
    "list(myCat.values())\n",
    "list(myCat.items())\n",
    "\n",
    "myCat.keys()\n",
    "\n",
    "#for\n",
    "for i in myCat.items():\n",
    "    print(i)\n",
    "    \n",
    "for k,v in myCat.items():\n",
    "    print(k,v)\n",
    "    \n",
    "'load' in myCat.values()\n",
    "\n",
    "#if\n",
    "if 'colour' in myCat:\n",
    "    print(myCat['colour'])\n",
    "\n",
    "#get\n",
    "myCat.get('height','null')\n"
   ]
  },
  {
   "cell_type": "code",
   "execution_count": 80,
   "metadata": {},
   "outputs": [
    {
     "name": "stdout",
     "output_type": "stream",
     "text": [
      "I am bringing 0 napkins to the picnic\n",
      "I am bringing 5 napkins to the picnic\n",
      "{'apples': 5, 'cups': 2, 'pear': 4}\n",
      "{'apples': 5, 'cups': 2, 'pear': 4, 'oranges': 6}\n"
     ]
    }
   ],
   "source": [
    "picnicItems = {'apples': 5, 'cups': 2}\n",
    "print ('I am bringing ' + str(picnicItems.get('napkins',0)) + ' napkins to the picnic')\n",
    "\n",
    "print ('I am bringing ' + str(picnicItems ['apples']) + ' napkins to the picnic')\n",
    "\n",
    "#add using if statement\n",
    "if 'pear' not in picnicItems:\n",
    "    picnicItems['pear'] = 4\n",
    "    print (picnicItems)\n",
    "\n",
    "#add using set default method\n",
    "picnicItems.setdefault('oranges', 6)\n",
    "print(picnicItems)"
   ]
  },
  {
   "cell_type": "code",
   "execution_count": 90,
   "metadata": {},
   "outputs": [
    {
     "name": "stdout",
     "output_type": "stream",
     "text": [
      "{'\\n': 6,\n",
      " ' ': 98,\n",
      " '\"': 4,\n",
      " \"'\": 5,\n",
      " '(': 7,\n",
      " ')': 7,\n",
      " ',': 6,\n",
      " '-': 3,\n",
      " '.': 11,\n",
      " 'A': 49,\n",
      " 'B': 3,\n",
      " 'C': 17,\n",
      " 'D': 24,\n",
      " 'E': 69,\n",
      " 'F': 12,\n",
      " 'G': 2,\n",
      " 'H': 13,\n",
      " 'I': 47,\n",
      " 'K': 10,\n",
      " 'L': 28,\n",
      " 'M': 7,\n",
      " 'N': 36,\n",
      " 'O': 27,\n",
      " 'P': 12,\n",
      " 'R': 33,\n",
      " 'S': 37,\n",
      " 'T': 53,\n",
      " 'U': 24,\n",
      " 'V': 14,\n",
      " 'W': 1,\n",
      " 'X': 3,\n",
      " 'Y': 17}\n"
     ]
    }
   ],
   "source": [
    "import pprint\n",
    "\n",
    "message = '''Dictionaries contain key-value pairs. Keys are like a list's indexes.\n",
    "Dictionaries are mutable. Variables hold references to dictionary values, not the dictionary value itself.\n",
    "Dictionaries are unordered. There is no \"first\" key-value pair in a dictionary.\n",
    "The keys(), values(), and items() methods will return list-like values of a dictionary's keys, vaues, and both keys and values, respectively.\n",
    "The get() method can return a default value if a key doesn't exist.\n",
    "The setdefault() method can set a value if a key doesn't exist.\n",
    "The pprint module's pprint() \"pretty print\" function can display a dictionary value cleanly. The pformat() function returns a string value of this output.'''\n",
    "count = {}\n",
    "\n",
    "for character in message.upper():\n",
    "    count.setdefault(character,0)\n",
    "    count[character] = count[character] + 1\n",
    "\n",
    "pprint.pprint(count)"
   ]
  },
  {
   "cell_type": "markdown",
   "metadata": {},
   "source": [
    "#### Data Structures"
   ]
  },
  {
   "cell_type": "code",
   "execution_count": 95,
   "metadata": {},
   "outputs": [
    {
     "data": {
      "text/plain": [
       "[{'name': 'Zophie', 'age': 7, 'colour': 'gray'},\n",
       " {'name': '~Tom', 'age': 1, 'colour': 'black'},\n",
       " {'name': 'Jerry', 'age': 5, 'colour': 'white'},\n",
       " {'name': 'Stray', 'age': 2, 'colour': 'ginger'}]"
      ]
     },
     "execution_count": 95,
     "metadata": {},
     "output_type": "execute_result"
    }
   ],
   "source": [
    "cat = {'name': 'Zophie', 'age': 7, 'colour': 'gray'}\n",
    "\n",
    "allCats = []\n",
    "allCats.append({'name': 'Zophie', 'age': 7, 'colour': 'gray'})\n",
    "allCats.append({'name': '~Tom', 'age': 1, 'colour': 'black'})\n",
    "allCats.append({'name': 'Jerry', 'age': 5, 'colour': 'white'})\n",
    "allCats.append({'name': 'Stray', 'age': 2, 'colour': 'ginger'})\n",
    "allCats\n",
    "\n",
    "#list of dictionaries is called a data structure."
   ]
  },
  {
   "cell_type": "markdown",
   "metadata": {},
   "source": [
    "### Section 8: More About Strings\n",
    "https://automatetheboringstuff.com/chapter6/"
   ]
  },
  {
   "cell_type": "markdown",
   "metadata": {},
   "source": [
    "#### Advance String Syntax\n",
    "Strings are enclosed by a pair of single quotes or double quotes (as long as the same kind are used).\n",
    "Escape characters let you put quotes and other characters that are hard to type inside strings.\n",
    "Raw strings (which have the r prefix before the first quote) will literally print any backslashes in the string and ignore escape characters.\n",
    "Multiline strings begin and end with three quotes, and can span multiple lines.\n",
    "Indexes, slices, and the \"in\" and \"not in\" operators all work with strings."
   ]
  },
  {
   "cell_type": "code",
   "execution_count": 8,
   "metadata": {},
   "outputs": [
    {
     "name": "stdout",
     "output_type": "stream",
     "text": [
      "Hello!\n",
      "How are you?\n",
      "I'm fine.\n",
      "I'm 3 years old\n",
      "Dear Alice,\n",
      "You've won a prize.\n",
      "click here to claim\n"
     ]
    },
    {
     "data": {
      "text/plain": [
       "True"
      ]
     },
     "execution_count": 8,
     "metadata": {},
     "output_type": "execute_result"
    }
   ],
   "source": [
    "print ('Hello!\\nHow are you?\\nI\\'m fine.')\n",
    "print (\"I'm 3 years old\")\n",
    "r'That\\'s my cat!'\n",
    "\n",
    "print (\"\"\"Dear Alice,\n",
    "You've won a prize.\n",
    "click here to claim\"\"\")\n",
    "\n",
    "spam = 'Hello'\n",
    "spam [0]\n",
    "\n",
    "'Hello' in spam"
   ]
  },
  {
   "cell_type": "markdown",
   "metadata": {},
   "source": [
    "#### String Methods\n",
    "upper() and lower() return an uppercase or lowercase string.\n",
    "isupper(), islower(), isalpha(), isalnum(), isdecimal(), isspace(), istitle() returns True or False if the string is that uppercase, lowercase, alphabetical letters, and so on.\n",
    "startswith() and endswith() also return bools.\n",
    "‘,'.join([‘cat', ‘dog']) returns a string that combines the strings in the given list.\n",
    "‘Hello world'.split() returns a list of strings split from the string it's called on.\n",
    "rjust() ,ljust(), center() returns a string padded with spaces.\n",
    "strip(), rstrip(), lstrip() returns a string with whitespace stripped off the sides.\n",
    "replace() will replace all occurrences of the first string argument with the second string argument.\n",
    "Pyperclip has copy() and paste() functions for getting and putting strings on the clipboard."
   ]
  },
  {
   "cell_type": "code",
   "execution_count": 29,
   "metadata": {},
   "outputs": [
    {
     "name": "stdout",
     "output_type": "stream",
     "text": [
      "YES\n",
      "OK\n"
     ]
    },
    {
     "data": {
      "text/plain": [
       "True"
      ]
     },
     "execution_count": 29,
     "metadata": {},
     "output_type": "execute_result"
    }
   ],
   "source": [
    "spam = 'hello world!'\n",
    "spam.upper()\n",
    "\n",
    "answer = input()\n",
    "if answer.lower() == 'yes':\n",
    "    print (\"OK\")\n",
    "    \n",
    "answer.isupper()\n",
    "\n",
    "#isalpha()- letters only\n",
    "#isalnum() - alphanumerical (letters and numbers only)\n",
    "#isdecimal()- numbers only\n",
    "#isspace() - whitespace only\n",
    "#istitle() - titlecase only (First Letter Capital)\n"
   ]
  },
  {
   "cell_type": "code",
   "execution_count": 39,
   "metadata": {},
   "outputs": [
    {
     "data": {
      "text/plain": [
       "'Hello world'"
      ]
     },
     "execution_count": 39,
     "metadata": {},
     "output_type": "execute_result"
    }
   ],
   "source": [
    "'Hello'.startswith('H')\n",
    "#endswith\n",
    "' - '.join(['Capital Markets','Debt'])\n",
    "'clinically proven to soothe and protect'.split()\n",
    "'Capital Markets - Debt'.split(' - ')\n",
    "\n",
    "'Helo'.rjust(10,'*')\n",
    "#ljust\n",
    "#center\n",
    "#lstrip\n",
    "#rstrip\n",
    "#strip\n",
    "\n",
    "'Hello workd'.replace('k','l')"
   ]
  },
  {
   "cell_type": "code",
   "execution_count": 40,
   "metadata": {},
   "outputs": [],
   "source": [
    "import pyperclip\n",
    "\n",
    "#pyperclip.copy()\n",
    "#pyperclip.paste()"
   ]
  },
  {
   "cell_type": "markdown",
   "metadata": {},
   "source": [
    "#### String Formatting"
   ]
  },
  {
   "cell_type": "code",
   "execution_count": 42,
   "metadata": {},
   "outputs": [
    {
     "data": {
      "text/plain": [
       "'Hello Alice, you are invited to my house at 10am.'"
      ]
     },
     "execution_count": 42,
     "metadata": {},
     "output_type": "execute_result"
    }
   ],
   "source": [
    "name = 'Alice'\n",
    "place = 'my house'\n",
    "time = '10am'\n",
    "\n",
    "'Hello %s, you are invited to %s at %s.' % (name,place,time)"
   ]
  },
  {
   "cell_type": "markdown",
   "metadata": {},
   "source": [
    "### Section 9: Running Programs from the Command Line\n",
    "https://automatetheboringstuff.com/appendixb/\n",
    "\n",
    "https://automatetheboringstuff.com/appendixb/#calibre_link-3730"
   ]
  },
  {
   "cell_type": "markdown",
   "metadata": {},
   "source": [
    "#### Launching Python Programs from Outside IDLE\n",
    "The shebang line tells your computer that you want to run the script using Python 3.\n",
    "On Windows, you can bring up the Run dialog by pressing Win+R.\n",
    "A batch file can save you a lot typing by running multiple commands.\n",
    "The batch files you'll make will look like this:\n",
    "    @py C:\\Users\\Al\\MyPytonScripts\\hello.py %*\n",
    "    @pause\n",
    "You'll need to add the MyPythonScripts folder to the PATH environment variable first.\n",
    "Command-line arguments can be read in the sys.argv list. (Import the sys module first.)"
   ]
  },
  {
   "cell_type": "code",
   "execution_count": null,
   "metadata": {},
   "outputs": [],
   "source": []
  },
  {
   "cell_type": "markdown",
   "metadata": {},
   "source": [
    "### Section 10: Regular Expressions\n",
    "https://automatetheboringstuff.com/chapter7/"
   ]
  },
  {
   "cell_type": "markdown",
   "metadata": {},
   "source": [
    "#### Regular Expression Basics\n",
    "\n",
    "Regular expressions are mini-language for specifying text patterns. Writing code to do pattern matching without regular expressions is a huge pain.\n",
    "Regex strings often use backslashes (like \\d), so they are often written using raw strings: r'\\d'\n",
    "\\d is the regex for a numeric digit character.\n",
    "Import the re module first.\n",
    "Call the re.compile() function to create a regex object.\n",
    "Call the regex object's search() method to create a match object.\n",
    "Call the match object's group() method to get the matched string."
   ]
  },
  {
   "cell_type": "code",
   "execution_count": 1,
   "metadata": {},
   "outputs": [
    {
     "name": "stdout",
     "output_type": "stream",
     "text": [
      "False\n"
     ]
    }
   ],
   "source": [
    "#not regular expression example 1\n",
    "\n",
    "def isPhoneNumber(text):\n",
    "    if len(text) !=12:\n",
    "        return False\n",
    "    for i in range(0, 3):\n",
    "        if not text[i].isdecimal():\n",
    "            return False\n",
    "    if text[3] != '-':\n",
    "        return False\n",
    "    for i in range(4, 7):\n",
    "        if not text[i].isdecimal():\n",
    "            return False\n",
    "    if text[7] != '-':\n",
    "        return False\n",
    "    for i in range(8, 12):\n",
    "        if not text[i].isdecimal():\n",
    "            return False\n",
    "        \n",
    "print (isPhoneNumber('111-111-111'))"
   ]
  },
  {
   "cell_type": "code",
   "execution_count": 10,
   "metadata": {},
   "outputs": [
    {
     "name": "stdout",
     "output_type": "stream",
     "text": [
      "Number found: 111-111-1111\n",
      "Number found: 222-222-2222\n"
     ]
    }
   ],
   "source": [
    "#not regular expression example 2\n",
    "\n",
    "def isPhoneNumber(text):\n",
    "    if len(text) !=12:\n",
    "        return False\n",
    "    for i in range(0, 3):\n",
    "        if not text[i].isdecimal():\n",
    "            return False\n",
    "    if text[3] != '-':\n",
    "        return False\n",
    "    for i in range(4, 7):\n",
    "        if not text[i].isdecimal():\n",
    "            return False\n",
    "    if text[7] != '-':\n",
    "        return False\n",
    "    for i in range(8, 12):\n",
    "        if not text[i].isdecimal():\n",
    "            return False\n",
    "        return True\n",
    "        \n",
    "message = 'Call me on 111-111-1111 on evenings and weekends or 222-222-2222 during office hours'\n",
    "foundNumber = False\n",
    "\n",
    "for i in range (len(message)):\n",
    "    chunk = message [i:i+12]\n",
    "    if isPhoneNumber (chunk):\n",
    "        print ('Number found: ' + chunk)\n",
    "        foundNumber = True\n",
    "if not foundNumber:\n",
    "    print ('Number not found')\n",
    "\n",
    "\n",
    "\n"
   ]
  },
  {
   "cell_type": "code",
   "execution_count": 13,
   "metadata": {},
   "outputs": [
    {
     "name": "stdout",
     "output_type": "stream",
     "text": [
      "['111-111-1111', '222-222-2222']\n"
     ]
    }
   ],
   "source": [
    "import re\n",
    "\n",
    "phoneNumRegex = re.compile(r'\\d\\d\\d-\\d\\d\\d-\\d\\d\\d\\d')\n",
    "mo = phoneNumRegex.findall('Call me on 111-111-1111 on evenings and weekends or 222-222-2222 during office hours')\n",
    "print(mo)"
   ]
  },
  {
   "cell_type": "markdown",
   "metadata": {},
   "source": [
    "#### Regex Groups and the Pipe Character\n",
    "\n",
    "Groups are created in regex strings with parentheses.\n",
    "The first set of parentheses is group 1, the second is 2, and so on.\n",
    "Calling group() or group(0) returns the full matching string, group(1) returns group 1's matching string, and so on.\n",
    "Use \\( and \\) to match literal parentheses in the regex string.\n",
    "The | pipe can match one of many possible groups."
   ]
  },
  {
   "cell_type": "code",
   "execution_count": 15,
   "metadata": {},
   "outputs": [
    {
     "data": {
      "text/plain": [
       "'123-456-7890'"
      ]
     },
     "execution_count": 15,
     "metadata": {},
     "output_type": "execute_result"
    }
   ],
   "source": [
    "import re\n",
    "\n",
    "phoneNumRegex = re.compile (r'\\d\\d\\d-\\d\\d\\d-\\d\\d\\d\\d')\n",
    "phoneNumRegex.search('my number is 123-456-7890')\n",
    "\n",
    "#mo stands for match object\n",
    "#storing above in a variable\n",
    "mo = phoneNumRegex.search ('my number is 123-456-7890')\n",
    "mo.group()\n"
   ]
  },
  {
   "cell_type": "code",
   "execution_count": 44,
   "metadata": {},
   "outputs": [
    {
     "name": "stdout",
     "output_type": "stream",
     "text": [
      "123456-7890\n"
     ]
    }
   ],
   "source": [
    "#creating groups using parentheses\n",
    "\n",
    "phoneNumRegex = re.compile (r'(\\d\\d\\d)-(\\d\\d\\d-\\d\\d\\d\\d)')\n",
    "\n",
    "mo = phoneNumRegex.search ('my number is 123-456-7890')\n",
    "print(mo.group(1) +\n",
    "mo.group(2))"
   ]
  },
  {
   "cell_type": "code",
   "execution_count": 21,
   "metadata": {},
   "outputs": [
    {
     "data": {
      "text/plain": [
       "'Batmobile'"
      ]
     },
     "execution_count": 21,
     "metadata": {},
     "output_type": "execute_result"
    }
   ],
   "source": [
    "batRegex = re.compile (r'Bat(man|mobile|copter|bat)')\n",
    "mo = batRegex.search ('batman and his Batmobile')\n",
    "mo.group()"
   ]
  },
  {
   "cell_type": "markdown",
   "metadata": {},
   "source": [
    "#### Repetition in Regex Patterns and Greedy/Nongreedy Matching\n",
    "\n",
    "The ? says the group matches zero or one times.\n",
    "The * says the group matches zero or more times.\n",
    "The + says the group matches one or more times.\n",
    "The curly braces can match a specific number of times.\n",
    "The curly braces with two numbers matches a minimum and maximum number of times.\n",
    "Leaving out the first or second number in the curly braces says there is no minimum or maximum.\n",
    "\"Greedy matching\" matches the longest string possible, \"nongreedy matching\" (or \"lazy matching\") matches the shortest string possible.\n",
    "Putting a question mark after the curly braces makes it do a nongreedy/lazy match."
   ]
  },
  {
   "cell_type": "code",
   "execution_count": 7,
   "metadata": {},
   "outputs": [
    {
     "data": {
      "text/plain": [
       "'111-222-3333'"
      ]
     },
     "execution_count": 7,
     "metadata": {},
     "output_type": "execute_result"
    }
   ],
   "source": [
    "import re\n",
    "batRegex = re.compile(r'Bat(wo)?man')\n",
    "mo = batRegex.search('Batman the movie')\n",
    "mo.group()\n",
    "mo = batRegex.search ('Batwoman the movie')\n",
    "mo.group()\n",
    "\n"
   ]
  },
  {
   "cell_type": "code",
   "execution_count": 9,
   "metadata": {},
   "outputs": [
    {
     "data": {
      "text/plain": [
       "'222-3333'"
      ]
     },
     "execution_count": 9,
     "metadata": {},
     "output_type": "execute_result"
    }
   ],
   "source": [
    "phoneRegex = re.compile(r'(\\d\\d\\d-)?\\d\\d\\d-\\d\\d\\d\\d')\n",
    "mo = phoneRegex.search ('My phone number is 222-3333')\n",
    "mo.group()\n"
   ]
  },
  {
   "cell_type": "code",
   "execution_count": 22,
   "metadata": {},
   "outputs": [
    {
     "data": {
      "text/plain": [
       "<re.Match object; span=(18, 48), match='123-111-2222,333-3333,444-4444'>"
      ]
     },
     "execution_count": 22,
     "metadata": {},
     "output_type": "execute_result"
    }
   ],
   "source": [
    "regex = re.compile (r'(\\+\\*\\?)+')\n",
    "regex .search ('I learned about +*?+*?+*? regex syntax')\n",
    "\n",
    "haRegex = re.compile(r'(Ha){3}')\n",
    "haRegex.search('He said HaHaHa')\n",
    "\n",
    "phoneRegex = re.compile (r'((\\d\\d\\d-)?\\d\\d\\d-\\d\\d\\d\\d(,)?){3}')\n",
    "phoneRegex.search('Call these number 123-111-2222,333-3333,444-4444')\n"
   ]
  },
  {
   "cell_type": "code",
   "execution_count": 24,
   "metadata": {},
   "outputs": [
    {
     "data": {
      "text/plain": [
       "<re.Match object; span=(0, 5), match='12345'>"
      ]
     },
     "execution_count": 24,
     "metadata": {},
     "output_type": "execute_result"
    }
   ],
   "source": [
    "#greedy match\n",
    "\n",
    "digitRegex = re.compile (r'(\\d){3,5}')\n",
    "digitRegex.search ('1234567890')"
   ]
  },
  {
   "cell_type": "code",
   "execution_count": 25,
   "metadata": {},
   "outputs": [
    {
     "data": {
      "text/plain": [
       "<re.Match object; span=(0, 3), match='123'>"
      ]
     },
     "execution_count": 25,
     "metadata": {},
     "output_type": "execute_result"
    }
   ],
   "source": [
    "#nongreedy match'?'\n",
    "\n",
    "digitRegex = re.compile (r'(\\d){3,5}?')\n",
    "digitRegex.search ('1234567890')"
   ]
  },
  {
   "cell_type": "markdown",
   "metadata": {},
   "source": [
    "#### Regex Character Classes and the findall() Method\n",
    "\n",
    "The regex method findall() is passed a string, and returns all matches in it, not just the first match.\n",
    "If the regex has 0 or 1 group, findall() returns a list of strings.\n",
    "If the regex has 2 or more groups, findall() returns a list of tuples of strings.\n",
    "\\d is a shorthand character class that matches digits. \\w matches \"word characters\" (letters, numbers, and the underscore). \\s matches whitespace characters (space, tab, newline).\n",
    "The uppercase shorthand character classes \\D, \\W, and \\S match charaters that are not digits, word characters, and whitespace.\n",
    "You can make your own character classes with square brackets: [aeiou]\n",
    "A ^ caret makes it a negative character class, matching anything not in the brackets: [^aeiou]"
   ]
  },
  {
   "cell_type": "code",
   "execution_count": 4,
   "metadata": {},
   "outputs": [
    {
     "data": {
      "text/plain": [
       "['12 Drummers',\n",
       " '11 Pipers',\n",
       " '10 Lords',\n",
       " '9 Ladies',\n",
       " '8 Maids',\n",
       " '7 Swans',\n",
       " '6 Geese',\n",
       " '5 Golden',\n",
       " '4 Calling',\n",
       " '3 French',\n",
       " '2 Turtle']"
      ]
     },
     "execution_count": 4,
     "metadata": {},
     "output_type": "execute_result"
    }
   ],
   "source": [
    "import re\n",
    "\n",
    "lyric = '''On the twelfth day of Christmas\n",
    "my true love sent to me:\n",
    "12 Drummers Drumming\n",
    "11 Pipers Piping\n",
    "10 Lords a Leaping\n",
    "9 Ladies Dancing\n",
    "8 Maids a Milking\n",
    "7 Swans a Swimming\n",
    "6 Geese a Laying\n",
    "5 Golden Rings\n",
    "4 Calling Birds\n",
    "3 French Hens\n",
    "2 Turtle Doves\n",
    "and a Partridge in a Pear Tree '''\n",
    "\n",
    "xmasRegex = re.compile (r'\\d+\\s\\w+')\n",
    "xmasRegex.findall(lyric)\n"
   ]
  },
  {
   "cell_type": "code",
   "execution_count": 16,
   "metadata": {},
   "outputs": [
    {
     "data": {
      "text/plain": [
       "['ue', 'ea', 'ie', 'ai', 'ee', 'ea', 'ee']"
      ]
     },
     "execution_count": 16,
     "metadata": {},
     "output_type": "execute_result"
    }
   ],
   "source": [
    "import re\n",
    "\n",
    "lyric = '''On the twelfth day of Christmas\n",
    "my true love sent to me:\n",
    "12 Drummers Drumming\n",
    "11 Pipers Piping\n",
    "10 Lords a Leaping\n",
    "9 Ladies Dancing\n",
    "8 Maids a Milking\n",
    "7 Swans a Swimming\n",
    "6 Geese a Laying\n",
    "5 Golden Rings\n",
    "4 Calling Birds\n",
    "3 French Hens\n",
    "2 Turtle Doves\n",
    "and a Partridge in a Pear Tree '''\n",
    "\n",
    "vowelRegex = re.compile (r'[aeiou]{2}')\n",
    "vowelRegex.findall(lyric)\n"
   ]
  },
  {
   "cell_type": "code",
   "execution_count": 31,
   "metadata": {},
   "outputs": [
    {
     "data": {
      "text/plain": [
       "['lfth ',\n",
       " 'f Chr',\n",
       " 's\\nmy ',\n",
       " ':\\n12 ',\n",
       " 'rs Dr',\n",
       " 'ng\\n11',\n",
       " 'ng\\n10',\n",
       " 'ng\\n9 ',\n",
       " 'ng\\n8 ',\n",
       " 'ng\\n7 ',\n",
       " 'ng\\n6 ',\n",
       " 'ng\\n5 ',\n",
       " 'ngs\\n4',\n",
       " 'rds\\n3',\n",
       " 'nch H',\n",
       " 'ns\\n2 ']"
      ]
     },
     "execution_count": 31,
     "metadata": {},
     "output_type": "execute_result"
    }
   ],
   "source": [
    "import re\n",
    "\n",
    "lyric = '''On the twelfth day of Christmas\n",
    "my true love sent to me:\n",
    "12 Drummers Drumming\n",
    "11 Pipers Piping\n",
    "10 Lords a Leaping\n",
    "9 Ladies Dancing\n",
    "8 Maids a Milking\n",
    "7 Swans a Swimming\n",
    "6 Geese a Laying\n",
    "5 Golden Rings\n",
    "4 Calling Birds\n",
    "3 French Hens\n",
    "2 Turtle Doves\n",
    "and a Partridge in a Pear Tree '''\n",
    "\n",
    "#no vowel 5 char in a row\n",
    "consonantRegex = re.compile (r'[^AEIOUaeiou]{5}') # [^] = opposite\n",
    "consonantRegex.findall(lyric)"
   ]
  },
  {
   "cell_type": "markdown",
   "metadata": {},
   "source": [
    "#### Regex Dot-Star and the Caret/Dollar Characters\n",
    "\n",
    "^ means the string must start with pattern, $ means the string must end with the pattern. Both means the entire string must match the entire pattern.\n",
    "The . dot is a wildcard; it matches any character except newlines.\n",
    "Pass re.DOTALL as the second argument to re.compile() to make the . dot match newlines as well.\n",
    "Pass re.I as the second argument to re.compile() to make the matching case-insensitive."
   ]
  },
  {
   "cell_type": "code",
   "execution_count": 5,
   "metadata": {},
   "outputs": [],
   "source": [
    "#caret (^)\n",
    "\n",
    "import re\n",
    "beginsWithHelloRegex = re.compile (r'^Hello')#Hello at the start\n",
    "beginsWithHelloRegex.search ('Hello there!')"
   ]
  },
  {
   "cell_type": "code",
   "execution_count": 6,
   "metadata": {},
   "outputs": [
    {
     "data": {
      "text/plain": [
       "<re.Match object; span=(6, 12), match='world!'>"
      ]
     },
     "execution_count": 6,
     "metadata": {},
     "output_type": "execute_result"
    }
   ],
   "source": [
    "#dollar ($)\n",
    "\n",
    "endsWithWorldRegex = re.compile(r'world!$')\n",
    "endsWithWorldRegex.search ('Hello world!')"
   ]
  },
  {
   "cell_type": "code",
   "execution_count": 7,
   "metadata": {},
   "outputs": [
    {
     "data": {
      "text/plain": [
       "<re.Match object; span=(0, 10), match='3435435464'>"
      ]
     },
     "execution_count": 7,
     "metadata": {},
     "output_type": "execute_result"
    }
   ],
   "source": [
    "allDigitsRegex = re.compile (r'^\\d+$')\n",
    "allDigitsRegex.search ('3435435464')\n",
    "\n",
    "allDigitsRegex.search ('34354x35464')== None"
   ]
  },
  {
   "cell_type": "code",
   "execution_count": 12,
   "metadata": {},
   "outputs": [
    {
     "data": {
      "text/plain": [
       "['cat', 'hat', 'sat', 'lat', 'mat']"
      ]
     },
     "execution_count": 12,
     "metadata": {},
     "output_type": "execute_result"
    }
   ],
   "source": [
    "#dot method\n",
    "atRegex = re.compile (r'.at')\n",
    "atRegex.findall ('The cat in the hat sat on the flat mat.')#lat"
   ]
  },
  {
   "cell_type": "code",
   "execution_count": 29,
   "metadata": {},
   "outputs": [
    {
     "data": {
      "text/plain": [
       "[' cat', ' hat', ' sat', 'flat', ' mat']"
      ]
     },
     "execution_count": 29,
     "metadata": {},
     "output_type": "execute_result"
    }
   ],
   "source": [
    "#dot cont.\n",
    "\n",
    "atRegex = re.compile (r'.{1,2}at') #includes the space in 3 letter words\n",
    "atRegex.findall ('The cat in the hat sat on the flat mat.')"
   ]
  },
  {
   "cell_type": "code",
   "execution_count": 28,
   "metadata": {},
   "outputs": [
    {
     "data": {
      "text/plain": [
       "[('Sally', 'Smith')]"
      ]
     },
     "execution_count": 28,
     "metadata": {},
     "output_type": "execute_result"
    }
   ],
   "source": [
    "#dot-star method\n",
    "nameRegex = re.compile (r'First Name: (.*) Last Name: (.*)')\n",
    "nameRegex.findall ('First Name: Sally Last Name: Smith')"
   ]
  },
  {
   "cell_type": "code",
   "execution_count": 35,
   "metadata": {},
   "outputs": [
    {
     "data": {
      "text/plain": [
       "['Enter name here']"
      ]
     },
     "execution_count": 35,
     "metadata": {},
     "output_type": "execute_result"
    }
   ],
   "source": [
    "#non greedy\n",
    "\n",
    "nongreedy = re.compile (r'<(.*?)>')\n",
    "nongreedy.findall('<Enter name here> likes to skate>.')"
   ]
  },
  {
   "cell_type": "code",
   "execution_count": 36,
   "metadata": {},
   "outputs": [
    {
     "data": {
      "text/plain": [
       "['Enter name here> likes to skate']"
      ]
     },
     "execution_count": 36,
     "metadata": {},
     "output_type": "execute_result"
    }
   ],
   "source": [
    "#greedy\n",
    "\n",
    "greedy = re.compile (r'<(.*)>')\n",
    "greedy.findall('<Enter name here> likes to skate>.')"
   ]
  },
  {
   "cell_type": "code",
   "execution_count": 52,
   "metadata": {},
   "outputs": [
    {
     "data": {
      "text/plain": [
       "<re.Match object; span=(0, 61), match='Serve the public trust.\\nProtect the innocent.\\nU>"
      ]
     },
     "execution_count": 52,
     "metadata": {},
     "output_type": "execute_result"
    }
   ],
   "source": [
    "#re.DOTALL\n",
    "\n",
    "prime = 'Serve the public trust.\\nProtect the innocent.\\nUpload the law.'\n",
    "dotStar = re.compile(r'.*', re.DOTALL)\n",
    "dotStar.search(prime)\n"
   ]
  },
  {
   "cell_type": "code",
   "execution_count": 57,
   "metadata": {},
   "outputs": [
    {
     "data": {
      "text/plain": [
       "['o', 'u', 'A', 'u', 'a', 'e', 'i', 'o', 'a', 'e', 'e']"
      ]
     },
     "execution_count": 57,
     "metadata": {},
     "output_type": "execute_result"
    }
   ],
   "source": [
    "#re.IGNORECASE or I\n",
    "\n",
    "vowelRegex = re.compile(r'[aeiou]', re.I)\n",
    "vowelRegex.findall('Your Annual Pension Statement')"
   ]
  },
  {
   "cell_type": "markdown",
   "metadata": {},
   "source": [
    "#### Regex sub() Method and Verbose Mode\n",
    "\n",
    "The sub() regex method will substitute matches with some other text.\n",
    "Using \\1, \\2 and so will substitute group 1, 2, etc in the regex pattern.\n",
    "Passing re.VERBOSE lets you add whitespace and comments to the regex string passed to re.compile().\n",
    "If you want to pass multiple arguments (re.DOTALL , re.IGNORECASE, re.VERBOSE), combine them with the | bitwise operator."
   ]
  },
  {
   "cell_type": "code",
   "execution_count": 8,
   "metadata": {},
   "outputs": [
    {
     "data": {
      "text/plain": [
       "'REDACTED and REDACTED have gone under cover'"
      ]
     },
     "execution_count": 8,
     "metadata": {},
     "output_type": "execute_result"
    }
   ],
   "source": [
    "import re\n",
    "namesRegex = re.compile (r'Agent \\w+')\n",
    "namesRegex.findall ('Agent Smith and Agent Bob have gone under cover')\n",
    "namesRegex.sub ('REDACTED', 'Agent Smith and Agent Bob have gone under cover')"
   ]
  },
  {
   "cell_type": "code",
   "execution_count": 17,
   "metadata": {},
   "outputs": [
    {
     "data": {
      "text/plain": [
       "'Agent S*** and Agent B*** have gone under cover'"
      ]
     },
     "execution_count": 17,
     "metadata": {},
     "output_type": "execute_result"
    }
   ],
   "source": [
    "import re\n",
    "namesRegex = re.compile (r'Agent (\\w)(\\w*)')\n",
    "namesRegex.findall ('Agent Smith and Agent Bob have gone under cover')\n",
    "namesRegex.sub (r'Agent \\1***', 'Agent Smith and Agent Bob have gone under cover')"
   ]
  },
  {
   "cell_type": "code",
   "execution_count": 19,
   "metadata": {},
   "outputs": [
    {
     "data": {
      "text/plain": [
       "re.compile(r'\\n(\\d\\d\\d-)|    # area code without parens, with dash\\n(\\(\\d\\d\\d\\) ) # -or- area code with parens and no dash\\n\\d\\d\\d        # first 3 digits\\n-             # second dash\\n\\d\\d\\d\\d      # last 3 digits \\n\\sx\\d{2,4}    # extension, like x1234',\n",
       "re.UNICODE|re.VERBOSE)"
      ]
     },
     "execution_count": 19,
     "metadata": {},
     "output_type": "execute_result"
    }
   ],
   "source": [
    "re.compile(r'''\n",
    "(\\d\\d\\d-)|    # area code without parens, with dash\n",
    "(\\(\\d\\d\\d\\) ) # -or- area code with parens and no dash\n",
    "\\d\\d\\d        # first 3 digits\n",
    "-             # second dash\n",
    "\\d\\d\\d\\d      # last 3 digits \n",
    "\\sx\\d{2,4}    # extension, like x1234''',re.VERBOSE)\n",
    "\n"
   ]
  },
  {
   "cell_type": "code",
   "execution_count": null,
   "metadata": {},
   "outputs": [],
   "source": [
    "re.compile(r'''\n",
    "(\\d\\d\\d-)|    # area code without parens, with dash\n",
    "(\\(\\d\\d\\d\\) ) # -or- area code with parens and no dash\n",
    "\\d\\d\\d        # first 3 digits\n",
    "-             # second dash\n",
    "\\d\\d\\d\\d      # last 4 digits \n",
    "\\sx\\d{2,4}    # extension, like x1234''',re.VERBOSE | re.DOTALL | re.IGNORECASE)\n"
   ]
  },
  {
   "cell_type": "markdown",
   "metadata": {},
   "source": [
    "#### Regex Example Program: A Phone and Email Scraper\n",
    "https://automatetheboringstuff.com/files/examplePhoneEmailDirectory.pdf"
   ]
  },
  {
   "cell_type": "code",
   "execution_count": 2,
   "metadata": {},
   "outputs": [
    {
     "name": "stdout",
     "output_type": "stream",
     "text": [
      "Norbert Vinson\n",
      "Milton Wade\n",
      "Lauren Barnett\n",
      "Cary Kirby\n",
      "Clark Salinas\n",
      "Hugo Cross\n",
      "Domenic Molina\n",
      "Calvin Ayers\n",
      "385-868-1852\n",
      "931-883-8104\n",
      "573-991-4106\n",
      "859-271-7097\n",
      "845-641-5553\n",
      "500-760-4858\n",
      "256-975-9610\n",
      "337-838-9148\n",
      "nvinson8@hotmail.com\n",
      "mwade90@gmail.com\n",
      "lbarnett80@sbcglobal.net\n",
      "ckirby9@msn.com\n",
      "csalinas16@mac.com\n",
      "hcross@optonline.net\n",
      "dmolina@me.com\n",
      "calvina46@optonline.net\n",
      "['Norbert Vinson', 'Milton Wade', 'Lauren Barnett', 'Cary Kirby', 'Clark Salinas', 'Hugo Cross', 'Domenic Molina', 'Calvin Ayers', '385-868-1852', '931-883-8104', '573-991-4106', '859-271-7097', '845-641-5553', '500-760-4858', '256-975-9610', '337-838-9148', 'nvinson8@hotmail.com', 'mwade90@gmail.com', 'lbarnett80@sbcglobal.net', 'ckirby9@msn.com', 'csalinas16@mac.com', 'hcross@optonline.net', 'dmolina@me.com', 'calvina46@optonline.net']\n"
     ]
    }
   ],
   "source": [
    "#! python 3\n",
    "\n",
    "import re, pyperclip\n",
    "\n",
    "# create regex for name\n",
    "\n",
    "nameRegex = re.compile(r'''(\n",
    "([A-Z][a-z]+)                    # starts with capital - first name\n",
    "\\s                               # space\n",
    "([a-zA-Z]+)                      # last name\n",
    "\n",
    ")''', re.VERBOSE)\n",
    "\n",
    "# Create a regex for phone numbers\n",
    "\n",
    "# 415-555-0000, 555-0000, (415) 555-0000, 555-0000 ext 12345, ext. 12345, x12345\n",
    "phoneRegex = re.compile(r'''(\n",
    "(\\d{3}|\\(\\d{3}\\))?                # area code\n",
    "(\\s|-|\\.)?                        # separator\n",
    "(\\d{3})                           # first 3 digits\n",
    "(\\s|-|\\.)                         # separator\n",
    "(\\d{4})                           # last 4 digits\n",
    "(\\s*(ext|x|ext.)\\s*(\\d{2,5}))?    # extension\n",
    ")''', re.VERBOSE)\n",
    "\n",
    "\n",
    "\n",
    "\n",
    "# Create a regex for email addresses\n",
    "\n",
    "# some.+_thing@something.com\n",
    "emailRegex = re.compile(r'''(\n",
    "(\\d{4})                           # cheat to remove digits\n",
    "([a-zA-Z0-9_.+]+)                 # name part\n",
    "(@+)                              # @ symbol\n",
    "([a-zA-Z0-9_.+]+)                 # domain name\n",
    "(\\.com|\\.net+)                    # cheat for TLD\n",
    "\n",
    "#(\\.[a-zA-Z]{2,4})\n",
    ")''',re.VERBOSE)\n",
    "\n",
    "\n",
    "# Find all Matches in the Clipboard Text\n",
    "text = str(pyperclip.paste())\n",
    "\n",
    "\n",
    "\n",
    "matches = []\n",
    "\n",
    "for groups in nameRegex.findall(text):\n",
    "    #fullName = ' '.join([groups[2],groups[3]])\n",
    "    #matches.append(fullName)\n",
    "    matches.append(groups[0])\n",
    "\n",
    "for groups in phoneRegex.findall(text):\n",
    "    phoneNumbers = '-'.join([groups[1],groups[3], groups[5]])\n",
    "    matches.append(phoneNumbers)\n",
    "    \n",
    " \n",
    "for groups in emailRegex.findall(text):\n",
    "    emailAddress = ''.join([groups[2],groups[3],groups[4],groups[5]])\n",
    "    matches.append(emailAddress)\n",
    "    \n",
    "\n",
    "# Copy the extract email/phone to the clipboard\n",
    "\n",
    "if len(matches) > 0:\n",
    "    #pyperclip.copy('\\n'.join(matches))\n",
    "    #print('Copied to clipboard:')\n",
    "    print('\\n'.join(matches))\n",
    "else:\n",
    "    print('No phone numbers or email addresses found.')\n",
    "print(matches)\n"
   ]
  },
  {
   "cell_type": "code",
   "execution_count": null,
   "metadata": {},
   "outputs": [],
   "source": []
  },
  {
   "cell_type": "code",
   "execution_count": null,
   "metadata": {},
   "outputs": [],
   "source": []
  }
 ],
 "metadata": {
  "kernelspec": {
   "display_name": "Python 3",
   "language": "python",
   "name": "python3"
  },
  "language_info": {
   "codemirror_mode": {
    "name": "ipython",
    "version": 3
   },
   "file_extension": ".py",
   "mimetype": "text/x-python",
   "name": "python",
   "nbconvert_exporter": "python",
   "pygments_lexer": "ipython3",
   "version": "3.7.9"
  }
 },
 "nbformat": 4,
 "nbformat_minor": 4
}
